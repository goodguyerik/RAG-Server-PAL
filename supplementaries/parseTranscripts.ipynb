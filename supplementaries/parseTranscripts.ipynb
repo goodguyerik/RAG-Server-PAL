{
 "cells": [
  {
   "cell_type": "code",
   "execution_count": 11,
   "id": "0d51e849-ae8c-4f4f-9807-2d1235143352",
   "metadata": {},
   "outputs": [],
   "source": [
    "import re\n",
    "import os\n",
    "from fpdf import FPDF\n",
    "\n",
    "\n",
    "def split_into_pages(text):\n",
    "    pattern = r'(?=\\[[0-9]{2}:[0-9]{2}:[0-9]{2}\\])'\n",
    "    parts = re.split(pattern, text)\n",
    "    return [p.strip() for p in parts if p.strip()]\n",
    "\n",
    "\n",
    "def txt_to_pdf(input_path, output_path,\n",
    "               font_name='Arial', font_size=12, line_height=8,\n",
    "               unicode_font_path=None, unicode_font_name='DejaVu'):\n",
    "    \n",
    "    with open(input_path, 'r', encoding='utf-8-sig') as f:\n",
    "        content = f.read()\n",
    "\n",
    "    pages = split_into_pages(content)\n",
    "    pdf = FPDF()\n",
    "    pdf.set_auto_page_break(auto=True, margin=15)\n",
    "\n",
    "    # Register Unicode font if provided, else use default\n",
    "    if unicode_font_path:\n",
    "        pdf.add_font(unicode_font_name, '', unicode_font_path, uni=True)\n",
    "        pdf.set_font(unicode_font_name, size=font_size)\n",
    "    else:\n",
    "        pdf.set_font(font_name, size=font_size)\n",
    "\n",
    "    for page in pages:\n",
    "        pdf.add_page()\n",
    "        for line in page.splitlines():\n",
    "            pdf.multi_cell(0, line_height, line)\n",
    "\n",
    "    pdf.output(output_path)\n",
    "    print(f\"Created PDF: {output_path}\")\n",
    "\n",
    "\n",
    "def process_directory(input_dir, output_dir,\n",
    "                      font_name='Arial', font_size=12, line_height=8,\n",
    "                      unicode_font_path=None, unicode_font_name='DejaVu'):\n",
    "    \n",
    "    os.makedirs(output_dir, exist_ok=True)\n",
    "    for fname in os.listdir(input_dir):\n",
    "        if fname.lower().endswith('.txt'):\n",
    "            in_path = os.path.join(input_dir, fname)\n",
    "            out_path = os.path.join(output_dir, os.path.splitext(fname)[0] + '.pdf')\n",
    "            txt_to_pdf(in_path, out_path,\n",
    "                       font_name, font_size, line_height,\n",
    "                       unicode_font_path, unicode_font_name)"
   ]
  },
  {
   "cell_type": "code",
   "execution_count": 13,
   "id": "f24c36a6-0311-460e-a112-1cd5d5d6bb1e",
   "metadata": {},
   "outputs": [
    {
     "name": "stdout",
     "output_type": "stream",
     "text": [
      "Created PDF: ../../RAG/data/etapart/videos/Wartung einen ETAFlex MK3.pdf\n",
      "Created PDF: ../../RAG/data/etapart/videos/Gasdetektion.pdf\n",
      "Created PDF: ../../RAG/data/etapart/videos/Wartung Dunkelstrahler ETARay 3Hu 9m.pdf\n",
      "Created PDF: ../../RAG/data/etapart/videos/Durchführung von Dichtheitsprüfung udn Abgasmessungen.pdf\n",
      "Created PDF: ../../RAG/data/etapart/videos/Ausbau und Reinigung eines Abgasventilators GE133.pdf\n",
      "Created PDF: ../../RAG/data/etapart/videos/Erstinbetriebnahme Dunkelstrahler ETARay 3HU 9m.pdf\n",
      "Created PDF: ../../RAG/data/etapart/videos/Erstinbetriebnahme eines Robonect R-Gerätes G30.pdf\n"
     ]
    }
   ],
   "source": [
    "process_directory('../../RAG/data/etapart/videos/', '../../RAG/data/etapart/videos/')"
   ]
  },
  {
   "cell_type": "code",
   "execution_count": null,
   "id": "23c9b1d3-ca78-4848-9cbb-fa27dff10ba7",
   "metadata": {},
   "outputs": [],
   "source": []
  }
 ],
 "metadata": {
  "kernelspec": {
   "display_name": "Python [conda env:base] *",
   "language": "python",
   "name": "conda-base-py"
  },
  "language_info": {
   "codemirror_mode": {
    "name": "ipython",
    "version": 3
   },
   "file_extension": ".py",
   "mimetype": "text/x-python",
   "name": "python",
   "nbconvert_exporter": "python",
   "pygments_lexer": "ipython3",
   "version": "3.12.7"
  }
 },
 "nbformat": 4,
 "nbformat_minor": 5
}
